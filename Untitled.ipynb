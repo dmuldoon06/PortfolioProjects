{
 "cells": [
  {
   "cell_type": "code",
   "execution_count": 1,
   "metadata": {},
   "outputs": [],
   "source": [
    "import numpy as np "
   ]
  },
  {
   "cell_type": "code",
   "execution_count": 2,
   "metadata": {
    "scrolled": true
   },
   "outputs": [],
   "source": [
    "# telling numpy to not use scientific notation and displaying only 2 digits after decimal for numbers\n",
    "np.set_printoptions(suppress = True, precision = 2)"
   ]
  },
  {
   "cell_type": "code",
   "execution_count": 3,
   "metadata": {},
   "outputs": [
    {
     "data": {
      "text/plain": [
       "array([[  44.  ,     nan,     nan, ...,     nan,     nan,     nan],\n",
       "       [  45.  ,     nan,     nan, ...,  124.58,    0.  ,    0.  ],\n",
       "       [  46.  ,     nan,     nan, ...,     nan,     nan,     nan],\n",
       "       ...,\n",
       "       [7394.  ,     nan,     nan, ...,    0.  ,    0.  ,    0.  ],\n",
       "       [7395.  ,     nan,     nan, ...,    0.  ,    4.  ,    0.  ],\n",
       "       [7396.  ,     nan,     nan, ...,    0.  ,    4.  ,    0.  ]])"
      ]
     },
     "execution_count": 3,
     "metadata": {},
     "output_type": "execute_result"
    }
   ],
   "source": [
    "# imported data also have # in dataset so had to changes comments = | b/c had issue with import.\n",
    "lab_test_rawdata = np.genfromtxt(\"Lab-test-import-edit1.csv\",\n",
    "                              delimiter = ',',\n",
    "                              comments=\"|\", \n",
    "                              skip_header = 1)\n",
    "lab_test_rawdata"
   ]
  },
  {
   "cell_type": "code",
   "execution_count": 5,
   "metadata": {},
   "outputs": [
    {
     "data": {
      "text/plain": [
       "67947"
      ]
     },
     "execution_count": 5,
     "metadata": {},
     "output_type": "execute_result"
    }
   ],
   "source": [
    "#checking to see how many NAN values we have \n",
    "np.isnan(lab_test_rawdata).sum()"
   ]
  },
  {
   "cell_type": "code",
   "execution_count": 6,
   "metadata": {},
   "outputs": [
    {
     "name": "stderr",
     "output_type": "stream",
     "text": [
      "<ipython-input-6-4ba9b80e09f0>:2: RuntimeWarning: Mean of empty slice\n",
      "  temp_mean = np.nanmean(lab_test_rawdata, axis = 0)\n"
     ]
    },
    {
     "data": {
      "text/plain": [
       "array([3676.07,     inf,     nan,     nan,     nan,     nan,     nan,\n",
       "           nan,  199.83,    1.16,    4.92,    1.04,    5.21,   64.76,\n",
       "         23.39,    7.79])"
      ]
     },
     "execution_count": 6,
     "metadata": {},
     "output_type": "execute_result"
    }
   ],
   "source": [
    "#running this to see which cols contain all string values and which ones contain int.\n",
    "temp_mean = np.nanmean(lab_test_rawdata, axis = 0)\n",
    "temp_mean "
   ]
  },
  {
   "cell_type": "code",
   "execution_count": 7,
   "metadata": {},
   "outputs": [
    {
     "data": {
      "text/plain": [
       "array([2, 3, 4, 5, 6, 7], dtype=int64)"
      ]
     },
     "execution_count": 7,
     "metadata": {},
     "output_type": "execute_result"
    }
   ],
   "source": [
    "#want to split data into strings cols and numeric cols \n",
    "#if col contains strings, mean will return nan and if .isnan \n",
    "#the argwhere tests if values are different from 0 since true (.isnan) is different from 0, this will return all the index values of the columns that contain strings. \n",
    "\n",
    "col_str = np.argwhere(np.isnan(temp_mean)).squeeze()\n",
    "col_str"
   ]
  },
  {
   "cell_type": "code",
   "execution_count": 8,
   "metadata": {},
   "outputs": [
    {
     "data": {
      "text/plain": [
       "array([ 0,  1,  8,  9, 10, 11, 12, 13, 14, 15], dtype=int64)"
      ]
     },
     "execution_count": 8,
     "metadata": {},
     "output_type": "execute_result"
    }
   ],
   "source": [
    "#want to do the same thing for columns with numeric data for further analysis\n",
    "col_numeric = np.argwhere(np.isnan(temp_mean)== False).squeeze()\n",
    "col_numeric"
   ]
  },
  {
   "cell_type": "code",
   "execution_count": 9,
   "metadata": {},
   "outputs": [
    {
     "data": {
      "text/plain": [
       "array([[  44.  ,    0.  ,  204.  , ...,    0.  ,    0.  ,    0.  ],\n",
       "       [  45.  ,    0.  ,  120.  , ...,  124.58,    0.  ,    0.  ],\n",
       "       [  46.  ,    0.  ,  120.  , ...,    0.  ,    0.  ,    0.  ],\n",
       "       ...,\n",
       "       [7394.  ,    0.  ,  109.5 , ...,    0.  ,    0.  ,    0.  ],\n",
       "       [7395.  ,    0.  ,  296.  , ...,    0.  ,    4.  ,    0.  ],\n",
       "       [7396.  ,    0.  ,  344.  , ...,    0.  ,    4.  ,    0.  ]])"
      ]
     },
     "execution_count": 9,
     "metadata": {},
     "output_type": "execute_result"
    }
   ],
   "source": [
    "#then we need to re-import the data in two separate data sets\n",
    "#used filling_val = 0 b/c with this particular dataset i know that if we have a missing value we didnt test sample so it should be represented as 0\n",
    "lab_test_data_numeric = np.genfromtxt(\"Lab-test-import-edit1.csv\", \n",
    "                                      delimiter = ',', \n",
    "                                      skip_header = 1, \n",
    "                                      autostrip = True, \n",
    "                                      usecols = col_numeric, \n",
    "                                      filling_values = 0, \n",
    "                                      comments= \"|\")\n",
    "lab_test_data_numeric"
   ]
  },
  {
   "cell_type": "code",
   "execution_count": 10,
   "metadata": {},
   "outputs": [
    {
     "name": "stderr",
     "output_type": "stream",
     "text": [
      "<ipython-input-10-00f59c810cf3>:7: DeprecationWarning: `np.str` is a deprecated alias for the builtin `str`. To silence this warning, use `str` by itself. Doing this will not modify any behavior and is safe. If you specifically wanted the numpy scalar type, use `np.str_` here.\n",
      "Deprecated in NumPy 1.20; for more details and guidance: https://numpy.org/devdocs/release/1.20.0-notes.html#deprecations\n",
      "  dtype = np.str)\n"
     ]
    },
    {
     "data": {
      "text/plain": [
       "array([['Certification', 'No', 'Approved', 'Devin Muldoon', '10/23/2017',\n",
       "        '10/24/2017'],\n",
       "       ['Certification', 'Yes', 'Rejected', 'Devin Muldoon',\n",
       "        '10/23/2017', '10/24/2017'],\n",
       "       ['Certification', 'Yes', 'Rejected', 'Devin Muldoon',\n",
       "        '10/23/2017', '10/24/2017'],\n",
       "       ...,\n",
       "       ['Audit', 'No', 'Approved', 'Lab Tech', '1/18/2021', '1/21/2021'],\n",
       "       ['API Verification', 'No', 'Approved', 'Lab Tech', '1/18/2021',\n",
       "        '1/20/2021'],\n",
       "       ['API Verification', 'No', 'Approved', 'Lab Tech', '1/18/2021',\n",
       "        '1/20/2021']], dtype='<U16')"
      ]
     },
     "execution_count": 10,
     "metadata": {},
     "output_type": "execute_result"
    }
   ],
   "source": [
    "lab_test_data_str = np.genfromtxt(\"Lab-test-import-edit1.csv\", \n",
    "                                      delimiter = ',', \n",
    "                                      skip_header = 1, \n",
    "                                      autostrip = True, \n",
    "                                      usecols = col_str, \n",
    "                                      comments= \"|\",\n",
    "                                      dtype = np.str)\n",
    "lab_test_data_str"
   ]
  },
  {
   "cell_type": "code",
   "execution_count": 11,
   "metadata": {},
   "outputs": [
    {
     "name": "stderr",
     "output_type": "stream",
     "text": [
      "<ipython-input-11-d0a467b7800c>:7: DeprecationWarning: `np.str` is a deprecated alias for the builtin `str`. To silence this warning, use `str` by itself. Doing this will not modify any behavior and is safe. If you specifically wanted the numpy scalar type, use `np.str_` here.\n",
      "Deprecated in NumPy 1.20; for more details and guidance: https://numpy.org/devdocs/release/1.20.0-notes.html#deprecations\n",
      "  dtype = np.str)\n"
     ]
    },
    {
     "data": {
      "text/plain": [
       "array(['lab_id', 'Item', 'Submit_Type', 'Flagged', 'Approval',\n",
       "       'Approved_By', 'Received_Date', 'Finished_Date', 'API',\n",
       "       'Heated_Plate_Self', 'Heated_Plate_deltaT', 'Heated_Plate_System',\n",
       "       'Air_flow', 'Air_Perm', 'Absorbency_0W', 'Absorbency_2W'],\n",
       "      dtype='<U19')"
      ]
     },
     "execution_count": 11,
     "metadata": {},
     "output_type": "execute_result"
    }
   ],
   "source": [
    "#now need to import the headers so we don't lose track of what data is what\n",
    "#skip_footer line ignores all rows after the header since we skipped header in import. \n",
    "full_header = np.genfromtxt(\"Lab-test-import-edit1.csv\", \n",
    "                           delimiter = ',', \n",
    "                           skip_footer = lab_test_rawdata.shape[0],\n",
    "                           autostrip = True, \n",
    "                           dtype = np.str)\n",
    "full_header"
   ]
  },
  {
   "cell_type": "code",
   "execution_count": 12,
   "metadata": {},
   "outputs": [
    {
     "data": {
      "text/plain": [
       "array(['Submit_Type', 'Flagged', 'Approval', 'Approved_By',\n",
       "       'Received_Date', 'Finished_Date'], dtype='<U19')"
      ]
     },
     "execution_count": 12,
     "metadata": {},
     "output_type": "execute_result"
    }
   ],
   "source": [
    "#now we need to separate out the headers\n",
    "str_header, numeric_header = full_header[col_str], full_header[col_numeric]\n",
    "numeric_header\n",
    "str_header"
   ]
  },
  {
   "cell_type": "code",
   "execution_count": 13,
   "metadata": {},
   "outputs": [],
   "source": [
    "#now that we have separated the data, good time to set up a checkpoint so we don't lose work so far\n",
    "def checkpoint(file_name, checkpoint_header, checkpoint_data):\n",
    "            np.savez(file_name, header = checkpoint_header, data = checkpoint_data)\n",
    "            checkpoint_variable = np.load(file_name + \".npz\")\n",
    "            return(checkpoint_variable)"
   ]
  },
  {
   "cell_type": "code",
   "execution_count": 14,
   "metadata": {},
   "outputs": [
    {
     "data": {
      "text/plain": [
       "array(['Submit_Type', 'Flagged', 'Approval', 'Approved_By',\n",
       "       'Received_Date', 'Finished_Date'], dtype='<U19')"
      ]
     },
     "execution_count": 14,
     "metadata": {},
     "output_type": "execute_result"
    }
   ],
   "source": [
    "#assigning a new variable to the checkpoint function we just defined \n",
    "checkpoint_str = checkpoint(\"checkpoint-str\", str_header, lab_test_data_str)\n",
    "checkpoint_str['data']\n",
    "checkpoint_str['header']"
   ]
  },
  {
   "cell_type": "code",
   "execution_count": 15,
   "metadata": {},
   "outputs": [
    {
     "data": {
      "text/plain": [
       "array(['lab_id', 'Item', 'API', 'Heated_Plate_Self',\n",
       "       'Heated_Plate_deltaT', 'Heated_Plate_System', 'Air_flow',\n",
       "       'Air_Perm', 'Absorbency_0W', 'Absorbency_2W'], dtype='<U19')"
      ]
     },
     "execution_count": 15,
     "metadata": {},
     "output_type": "execute_result"
    }
   ],
   "source": [
    "checkpoint_numeric = checkpoint(\"checkpoint-numeric\", numeric_header, lab_test_data_numeric)\n",
    "checkpoint_numeric['data']\n",
    "checkpoint_numeric['header']"
   ]
  },
  {
   "cell_type": "code",
   "execution_count": null,
   "metadata": {},
   "outputs": [],
   "source": []
  }
 ],
 "metadata": {
  "kernelspec": {
   "display_name": "Python 3",
   "language": "python",
   "name": "python3"
  },
  "language_info": {
   "codemirror_mode": {
    "name": "ipython",
    "version": 3
   },
   "file_extension": ".py",
   "mimetype": "text/x-python",
   "name": "python",
   "nbconvert_exporter": "python",
   "pygments_lexer": "ipython3",
   "version": "3.8.5"
  }
 },
 "nbformat": 4,
 "nbformat_minor": 4
}
