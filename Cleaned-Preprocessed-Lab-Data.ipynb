{
 "cells": [
  {
   "cell_type": "code",
   "execution_count": 50,
   "metadata": {},
   "outputs": [],
   "source": [
    "import numpy as np \n",
    "import pandas as pd"
   ]
  },
  {
   "cell_type": "code",
   "execution_count": 51,
   "metadata": {
    "scrolled": true
   },
   "outputs": [],
   "source": [
    "# telling numpy to not use scientific notation and displaying only 2 digits after decimal for numbers\n",
    "np.set_printoptions(suppress = True, precision = 2)"
   ]
  },
  {
   "cell_type": "code",
   "execution_count": 52,
   "metadata": {},
   "outputs": [
    {
     "data": {
      "text/plain": [
       "array([[  44.  ,     nan,     nan, ...,     nan,     nan,     nan],\n",
       "       [  45.  ,     nan,     nan, ...,  124.58,    0.  ,    0.  ],\n",
       "       [  46.  ,     nan,     nan, ...,     nan,     nan,     nan],\n",
       "       ...,\n",
       "       [7394.  ,     nan,     nan, ...,    0.  ,    0.  ,    0.  ],\n",
       "       [7395.  ,     nan,     nan, ...,    0.  ,    4.  ,    0.  ],\n",
       "       [7396.  ,     nan,     nan, ...,    0.  ,    4.  ,    0.  ]])"
      ]
     },
     "execution_count": 52,
     "metadata": {},
     "output_type": "execute_result"
    }
   ],
   "source": [
    "# imported data also have # in dataset so had to changes comments = | b/c had issue with import.\n",
    "lab_test_rawdata = np.genfromtxt(\"Lab-test-import-edit1.csv\",\n",
    "                              delimiter = ',',\n",
    "                              comments=\"|\", \n",
    "                              skip_header = 1)\n",
    "lab_test_rawdata"
   ]
  },
  {
   "cell_type": "code",
   "execution_count": 53,
   "metadata": {},
   "outputs": [
    {
     "data": {
      "text/plain": [
       "54401"
      ]
     },
     "execution_count": 53,
     "metadata": {},
     "output_type": "execute_result"
    }
   ],
   "source": [
    "#checking to see how many NAN values we have \n",
    "np.isnan(lab_test_rawdata).sum()"
   ]
  },
  {
   "cell_type": "code",
   "execution_count": 54,
   "metadata": {},
   "outputs": [
    {
     "name": "stderr",
     "output_type": "stream",
     "text": [
      "<ipython-input-54-4ba9b80e09f0>:2: RuntimeWarning: Mean of empty slice\n",
      "  temp_mean = np.nanmean(lab_test_rawdata, axis = 0)\n"
     ]
    },
    {
     "data": {
      "text/plain": [
       "array([3676.07,     inf,     nan,     nan,     nan,     nan,  199.83,\n",
       "          1.16,    4.92,    1.04,    5.21,   64.76,   23.39,    7.79])"
      ]
     },
     "execution_count": 54,
     "metadata": {},
     "output_type": "execute_result"
    }
   ],
   "source": [
    "#running this to see which cols contain all string values and which ones contain int.\n",
    "temp_mean = np.nanmean(lab_test_rawdata, axis = 0)\n",
    "temp_mean "
   ]
  },
  {
   "cell_type": "code",
   "execution_count": 55,
   "metadata": {},
   "outputs": [
    {
     "data": {
      "text/plain": [
       "array([2, 3, 4, 5], dtype=int64)"
      ]
     },
     "execution_count": 55,
     "metadata": {},
     "output_type": "execute_result"
    }
   ],
   "source": [
    "#want to split data into strings cols and numeric cols \n",
    "#if col contains strings, mean will return nan and if .isnan \n",
    "#the argwhere tests if values are different from 0 since true (.isnan) is different from 0, this will return all the index values of the columns that contain strings. \n",
    "\n",
    "col_str = np.argwhere(np.isnan(temp_mean)).squeeze()\n",
    "col_str"
   ]
  },
  {
   "cell_type": "code",
   "execution_count": 56,
   "metadata": {},
   "outputs": [
    {
     "data": {
      "text/plain": [
       "array([ 0,  1,  6,  7,  8,  9, 10, 11, 12, 13], dtype=int64)"
      ]
     },
     "execution_count": 56,
     "metadata": {},
     "output_type": "execute_result"
    }
   ],
   "source": [
    "#want to do the same thing for columns with numeric data for further analysis\n",
    "col_numeric = np.argwhere(np.isnan(temp_mean)== False).squeeze()\n",
    "col_numeric"
   ]
  },
  {
   "cell_type": "code",
   "execution_count": 57,
   "metadata": {},
   "outputs": [
    {
     "data": {
      "text/plain": [
       "array([[  44.  ,    0.  ,  204.  , ...,    0.  ,    0.  ,    0.  ],\n",
       "       [  45.  ,    0.  ,  120.  , ...,  124.58,    0.  ,    0.  ],\n",
       "       [  46.  ,    0.  ,  120.  , ...,    0.  ,    0.  ,    0.  ],\n",
       "       ...,\n",
       "       [7394.  ,    0.  ,  109.5 , ...,    0.  ,    0.  ,    0.  ],\n",
       "       [7395.  ,    0.  ,  296.  , ...,    0.  ,    4.  ,    0.  ],\n",
       "       [7396.  ,    0.  ,  344.  , ...,    0.  ,    4.  ,    0.  ]])"
      ]
     },
     "execution_count": 57,
     "metadata": {},
     "output_type": "execute_result"
    }
   ],
   "source": [
    "#then we need to re-import the data in two separate data sets\n",
    "#used filling_val = 0 b/c with this particular dataset i know that if we have a missing value we didnt test sample so it should be represented as 0\n",
    "lab_test_data_numeric = np.genfromtxt(\"Lab-test-import-edit1.csv\", \n",
    "                                      delimiter = ',', \n",
    "                                      skip_header = 1, \n",
    "                                      autostrip = True, \n",
    "                                      usecols = col_numeric, \n",
    "                                      filling_values = 0, \n",
    "                                      comments= \"|\")\n",
    "lab_test_data_numeric"
   ]
  },
  {
   "cell_type": "code",
   "execution_count": 58,
   "metadata": {},
   "outputs": [
    {
     "name": "stderr",
     "output_type": "stream",
     "text": [
      "<ipython-input-58-00f59c810cf3>:7: DeprecationWarning: `np.str` is a deprecated alias for the builtin `str`. To silence this warning, use `str` by itself. Doing this will not modify any behavior and is safe. If you specifically wanted the numpy scalar type, use `np.str_` here.\n",
      "Deprecated in NumPy 1.20; for more details and guidance: https://numpy.org/devdocs/release/1.20.0-notes.html#deprecations\n",
      "  dtype = np.str)\n"
     ]
    },
    {
     "data": {
      "text/plain": [
       "array([['Certification', 'No', 'Approved', 'Devin Muldoon'],\n",
       "       ['Certification', 'Yes', 'Rejected', 'Devin Muldoon'],\n",
       "       ['Certification', 'Yes', 'Rejected', 'Devin Muldoon'],\n",
       "       ...,\n",
       "       ['Audit', 'No', 'Approved', 'Lab Tech'],\n",
       "       ['API Verification', 'No', 'Approved', 'Lab Tech'],\n",
       "       ['API Verification', 'No', 'Approved', 'Lab Tech']], dtype='<U16')"
      ]
     },
     "execution_count": 58,
     "metadata": {},
     "output_type": "execute_result"
    }
   ],
   "source": [
    "lab_test_data_str = np.genfromtxt(\"Lab-test-import-edit1.csv\", \n",
    "                                      delimiter = ',', \n",
    "                                      skip_header = 1, \n",
    "                                      autostrip = True, \n",
    "                                      usecols = col_str, \n",
    "                                      comments= \"|\",\n",
    "                                      dtype = np.str)\n",
    "lab_test_data_str"
   ]
  },
  {
   "cell_type": "code",
   "execution_count": 59,
   "metadata": {},
   "outputs": [
    {
     "name": "stderr",
     "output_type": "stream",
     "text": [
      "<ipython-input-59-d0a467b7800c>:7: DeprecationWarning: `np.str` is a deprecated alias for the builtin `str`. To silence this warning, use `str` by itself. Doing this will not modify any behavior and is safe. If you specifically wanted the numpy scalar type, use `np.str_` here.\n",
      "Deprecated in NumPy 1.20; for more details and guidance: https://numpy.org/devdocs/release/1.20.0-notes.html#deprecations\n",
      "  dtype = np.str)\n"
     ]
    },
    {
     "data": {
      "text/plain": [
       "array(['lab_id', 'Item', 'Submit_Type', 'Flagged', 'Approval',\n",
       "       'Approved_By', 'API', 'Heated_Plate_Self', 'Heated_Plate_deltaT',\n",
       "       'Heated_Plate_System', 'Air_flow', 'Air_Perm', 'Absorbency_0W',\n",
       "       'Absorbency_2W'], dtype='<U19')"
      ]
     },
     "execution_count": 59,
     "metadata": {},
     "output_type": "execute_result"
    }
   ],
   "source": [
    "#now need to import the headers so we don't lose track of what data is what\n",
    "#skip_footer line ignores all rows after the header since we skipped header in import. \n",
    "full_header = np.genfromtxt(\"Lab-test-import-edit1.csv\", \n",
    "                           delimiter = ',', \n",
    "                           skip_footer = lab_test_rawdata.shape[0],\n",
    "                           autostrip = True, \n",
    "                           dtype = np.str)\n",
    "full_header"
   ]
  },
  {
   "cell_type": "code",
   "execution_count": 60,
   "metadata": {},
   "outputs": [
    {
     "data": {
      "text/plain": [
       "array(['Submit_Type', 'Flagged', 'Approval', 'Approved_By'], dtype='<U19')"
      ]
     },
     "execution_count": 60,
     "metadata": {},
     "output_type": "execute_result"
    }
   ],
   "source": [
    "#now we need to separate out the headers\n",
    "str_header, numeric_header = full_header[col_str], full_header[col_numeric]\n",
    "numeric_header\n",
    "str_header"
   ]
  },
  {
   "cell_type": "code",
   "execution_count": 61,
   "metadata": {},
   "outputs": [],
   "source": [
    "#now that we have separated the data, good time to set up a checkpoint so we don't lose work so far\n",
    "def checkpoint(file_name, checkpoint_header, checkpoint_data):\n",
    "            np.savez(file_name, header = checkpoint_header, data = checkpoint_data)\n",
    "            checkpoint_variable = np.load(file_name + \".npz\")\n",
    "            return(checkpoint_variable)"
   ]
  },
  {
   "cell_type": "code",
   "execution_count": 62,
   "metadata": {},
   "outputs": [
    {
     "data": {
      "text/plain": [
       "array(['Submit_Type', 'Flagged', 'Approval', 'Approved_By'], dtype='<U19')"
      ]
     },
     "execution_count": 62,
     "metadata": {},
     "output_type": "execute_result"
    }
   ],
   "source": [
    "#assigning a new variable to the checkpoint function we just defined \n",
    "checkpoint_str = checkpoint(\"checkpoint-str\", str_header, lab_test_data_str)\n",
    "checkpoint_str['data']\n",
    "checkpoint_str['header']"
   ]
  },
  {
   "cell_type": "code",
   "execution_count": 63,
   "metadata": {},
   "outputs": [
    {
     "data": {
      "text/plain": [
       "array(['lab_id', 'Item', 'API', 'Heated_Plate_Self',\n",
       "       'Heated_Plate_deltaT', 'Heated_Plate_System', 'Air_flow',\n",
       "       'Air_Perm', 'Absorbency_0W', 'Absorbency_2W'], dtype='<U19')"
      ]
     },
     "execution_count": 63,
     "metadata": {},
     "output_type": "execute_result"
    }
   ],
   "source": [
    "checkpoint_numeric = checkpoint(\"checkpoint-numeric\", numeric_header, lab_test_data_numeric)\n",
    "checkpoint_numeric['data']\n",
    "checkpoint_numeric['header']"
   ]
  },
  {
   "cell_type": "code",
   "execution_count": 64,
   "metadata": {},
   "outputs": [
    {
     "data": {
      "text/plain": [
       "array(['Submit_Type', 'Approval'], dtype='<U19')"
      ]
     },
     "execution_count": 64,
     "metadata": {},
     "output_type": "execute_result"
    }
   ],
   "source": [
    "#after examning data, i see that 'flagged' and 'approved_by' cols are redundant so i can drop them\n",
    "str_header = np.delete(str_header,(1,3))\n",
    "str_header"
   ]
  },
  {
   "cell_type": "code",
   "execution_count": 65,
   "metadata": {},
   "outputs": [
    {
     "data": {
      "text/plain": [
       "array([['Certification', 'No', 'Approved', 'Devin Muldoon'],\n",
       "       ['Certification', 'Yes', 'Rejected', 'Devin Muldoon'],\n",
       "       ['Certification', 'Yes', 'Rejected', 'Devin Muldoon'],\n",
       "       ...,\n",
       "       ['Audit', 'No', 'Approved', 'Lab Tech'],\n",
       "       ['API Verification', 'No', 'Approved', 'Lab Tech'],\n",
       "       ['API Verification', 'No', 'Approved', 'Lab Tech']], dtype='<U16')"
      ]
     },
     "execution_count": 65,
     "metadata": {},
     "output_type": "execute_result"
    }
   ],
   "source": [
    "lab_test_data_str"
   ]
  },
  {
   "cell_type": "code",
   "execution_count": 66,
   "metadata": {},
   "outputs": [],
   "source": [
    "#now need to drop the actual data\n",
    "lab_test_data_str = np.delete(lab_test_data_str,(1,3), axis = 1)"
   ]
  },
  {
   "cell_type": "code",
   "execution_count": 67,
   "metadata": {},
   "outputs": [
    {
     "data": {
      "text/plain": [
       "array([['Certification', 'Approved'],\n",
       "       ['Certification', 'Rejected'],\n",
       "       ['Certification', 'Rejected'],\n",
       "       ...,\n",
       "       ['Audit', 'Approved'],\n",
       "       ['API Verification', 'Approved'],\n",
       "       ['API Verification', 'Approved']], dtype='<U16')"
      ]
     },
     "execution_count": 67,
     "metadata": {},
     "output_type": "execute_result"
    }
   ],
   "source": [
    "lab_test_data_str"
   ]
  },
  {
   "cell_type": "code",
   "execution_count": 68,
   "metadata": {},
   "outputs": [
    {
     "data": {
      "text/plain": [
       "array(['API Verification', 'Audit', 'Certification', 'Resubmit'],\n",
       "      dtype='<U16')"
      ]
     },
     "execution_count": 68,
     "metadata": {},
     "output_type": "execute_result"
    }
   ],
   "source": [
    "#need to group api verification and certification together, audit and resubmit are in separate groups\n",
    "#0 = 'Resubmit', 1 ='Api ver' and 'cert', 2='audit'\n",
    "np.unique(lab_test_data_str[:,0])"
   ]
  },
  {
   "cell_type": "code",
   "execution_count": 69,
   "metadata": {},
   "outputs": [],
   "source": [
    "ver_cert = np.array(['API Verification','Certification'])"
   ]
  },
  {
   "cell_type": "code",
   "execution_count": 70,
   "metadata": {},
   "outputs": [],
   "source": [
    "lab_test_data_str[:,0] = np.where(np.isin(lab_test_data_str[:,0], 'Resubmit'), 0, lab_test_data_str[:,0])\n",
    "lab_test_data_str[:,0] = np.where(np.isin(lab_test_data_str[:,0], ver_cert),1, lab_test_data_str[:,0])\n",
    "lab_test_data_str[:,0] = np.where(np.isin(lab_test_data_str[:,0], 'Audit'), 2, lab_test_data_str[:,0])"
   ]
  },
  {
   "cell_type": "code",
   "execution_count": 71,
   "metadata": {},
   "outputs": [
    {
     "data": {
      "text/plain": [
       "array(['0', '1', '2'], dtype='<U16')"
      ]
     },
     "execution_count": 71,
     "metadata": {},
     "output_type": "execute_result"
    }
   ],
   "source": [
    "np.unique(lab_test_data_str[:,0])"
   ]
  },
  {
   "cell_type": "code",
   "execution_count": 72,
   "metadata": {},
   "outputs": [
    {
     "data": {
      "text/plain": [
       "array(['', 'Approved', 'Pending Approval', 'Rejected'], dtype='<U16')"
      ]
     },
     "execution_count": 72,
     "metadata": {},
     "output_type": "execute_result"
    }
   ],
   "source": [
    "np.unique(lab_test_data_str[:,1])"
   ]
  },
  {
   "cell_type": "code",
   "execution_count": 73,
   "metadata": {},
   "outputs": [],
   "source": [
    "#Since numbers are easier for analysis, we are going to change all status to either good/bad. \n",
    "#Good = 'Approved', 'Pending Approval' , Bad = 'Rejected' or blank\n",
    "bad_status = np.array(['','Rejected'])"
   ]
  },
  {
   "cell_type": "code",
   "execution_count": 74,
   "metadata": {},
   "outputs": [],
   "source": [
    "#generally associate 1 with good and 0 with bad so i will now make apprpriate changes for later analysis\n",
    "lab_test_data_str[:,1] = np.where(np.isin(lab_test_data_str[:,1], bad_status),0,1)"
   ]
  },
  {
   "cell_type": "code",
   "execution_count": 75,
   "metadata": {},
   "outputs": [
    {
     "data": {
      "text/plain": [
       "array(['0', '1'], dtype='<U16')"
      ]
     },
     "execution_count": 75,
     "metadata": {},
     "output_type": "execute_result"
    }
   ],
   "source": [
    "np.unique(lab_test_data_str[:,1])"
   ]
  },
  {
   "cell_type": "code",
   "execution_count": 76,
   "metadata": {
    "scrolled": true
   },
   "outputs": [
    {
     "data": {
      "text/plain": [
       "array([['1', '1'],\n",
       "       ['1', '0'],\n",
       "       ['1', '0'],\n",
       "       ...,\n",
       "       ['2', '1'],\n",
       "       ['1', '1'],\n",
       "       ['1', '1']], dtype='<U16')"
      ]
     },
     "execution_count": 76,
     "metadata": {},
     "output_type": "execute_result"
    }
   ],
   "source": [
    "lab_test_data_str"
   ]
  },
  {
   "cell_type": "code",
   "execution_count": 77,
   "metadata": {},
   "outputs": [
    {
     "data": {
      "text/plain": [
       "array([[1, 1],\n",
       "       [1, 0],\n",
       "       [1, 0],\n",
       "       ...,\n",
       "       [2, 1],\n",
       "       [1, 1],\n",
       "       [1, 1]], dtype=int8)"
      ]
     },
     "execution_count": 77,
     "metadata": {},
     "output_type": "execute_result"
    }
   ],
   "source": [
    "#now that we have all numbers we need to convert them to acutal numbers instead of strings \n",
    "lab_test_data_str = lab_test_data_str.astype(np.int8)\n",
    "lab_test_data_str"
   ]
  },
  {
   "cell_type": "code",
   "execution_count": 78,
   "metadata": {},
   "outputs": [],
   "source": [
    "#from reviewing data, i think that lab_id col is more important than the item col and both represent the same thing\n",
    "numeric_header = np.delete(numeric_header, 1)"
   ]
  },
  {
   "cell_type": "code",
   "execution_count": 79,
   "metadata": {
    "scrolled": true
   },
   "outputs": [
    {
     "data": {
      "text/plain": [
       "array(['lab_id', 'API', 'Heated_Plate_Self', 'Heated_Plate_deltaT',\n",
       "       'Heated_Plate_System', 'Air_flow', 'Air_Perm', 'Absorbency_0W',\n",
       "       'Absorbency_2W'], dtype='<U19')"
      ]
     },
     "execution_count": 79,
     "metadata": {},
     "output_type": "execute_result"
    }
   ],
   "source": [
    "numeric_header"
   ]
  },
  {
   "cell_type": "code",
   "execution_count": 80,
   "metadata": {},
   "outputs": [
    {
     "data": {
      "text/plain": [
       "array([[  44.  ,    0.  ,  204.  , ...,    0.  ,    0.  ,    0.  ],\n",
       "       [  45.  ,    0.  ,  120.  , ...,  124.58,    0.  ,    0.  ],\n",
       "       [  46.  ,    0.  ,  120.  , ...,    0.  ,    0.  ,    0.  ],\n",
       "       ...,\n",
       "       [7394.  ,    0.  ,  109.5 , ...,    0.  ,    0.  ,    0.  ],\n",
       "       [7395.  ,    0.  ,  296.  , ...,    0.  ,    4.  ,    0.  ],\n",
       "       [7396.  ,    0.  ,  344.  , ...,    0.  ,    4.  ,    0.  ]])"
      ]
     },
     "execution_count": 80,
     "metadata": {},
     "output_type": "execute_result"
    }
   ],
   "source": [
    "lab_test_data_numeric"
   ]
  },
  {
   "cell_type": "code",
   "execution_count": 81,
   "metadata": {},
   "outputs": [],
   "source": [
    "lab_test_data_numeric = np.delete(lab_test_data_numeric, 1, axis = 1)"
   ]
  },
  {
   "cell_type": "code",
   "execution_count": 82,
   "metadata": {},
   "outputs": [
    {
     "data": {
      "text/plain": [
       "array([[  44.  ,  204.  ,    0.  , ...,    0.  ,    0.  ,    0.  ],\n",
       "       [  45.  ,  120.  ,    0.87, ...,  124.58,    0.  ,    0.  ],\n",
       "       [  46.  ,  120.  ,    0.  , ...,    0.  ,    0.  ,    0.  ],\n",
       "       ...,\n",
       "       [7394.  ,  109.5 ,    0.  , ...,    0.  ,    0.  ,    0.  ],\n",
       "       [7395.  ,  296.  ,    0.  , ...,    0.  ,    4.  ,    0.  ],\n",
       "       [7396.  ,  344.  ,    0.  , ...,    0.  ,    4.  ,    0.  ]])"
      ]
     },
     "execution_count": 82,
     "metadata": {},
     "output_type": "execute_result"
    }
   ],
   "source": [
    "lab_test_data_numeric "
   ]
  },
  {
   "cell_type": "code",
   "execution_count": 83,
   "metadata": {},
   "outputs": [
    {
     "data": {
      "text/plain": [
       "0"
      ]
     },
     "execution_count": 83,
     "metadata": {},
     "output_type": "execute_result"
    }
   ],
   "source": [
    "#here i want to double check that there are no missing values in the data set. 0 confirms this is the case. \n",
    "np.isnan(lab_test_data_numeric).sum()"
   ]
  },
  {
   "cell_type": "code",
   "execution_count": 84,
   "metadata": {},
   "outputs": [
    {
     "data": {
      "text/plain": [
       "(6773, 9)"
      ]
     },
     "execution_count": 84,
     "metadata": {},
     "output_type": "execute_result"
    }
   ],
   "source": [
    "#need to double check both arrays have compatible shapes in order to combine. \n",
    "lab_test_data_numeric.shape"
   ]
  },
  {
   "cell_type": "code",
   "execution_count": 85,
   "metadata": {},
   "outputs": [
    {
     "data": {
      "text/plain": [
       "(6773, 2)"
      ]
     },
     "execution_count": 85,
     "metadata": {},
     "output_type": "execute_result"
    }
   ],
   "source": [
    "lab_test_data_str.shape"
   ]
  },
  {
   "cell_type": "code",
   "execution_count": 86,
   "metadata": {},
   "outputs": [
    {
     "data": {
      "text/plain": [
       "array([[  44.  ,  204.  ,    0.  , ...,    0.  ,    1.  ,    1.  ],\n",
       "       [  45.  ,  120.  ,    0.87, ...,    0.  ,    1.  ,    0.  ],\n",
       "       [  46.  ,  120.  ,    0.  , ...,    0.  ,    1.  ,    0.  ],\n",
       "       ...,\n",
       "       [7394.  ,  109.5 ,    0.  , ...,    0.  ,    2.  ,    1.  ],\n",
       "       [7395.  ,  296.  ,    0.  , ...,    0.  ,    1.  ,    1.  ],\n",
       "       [7396.  ,  344.  ,    0.  , ...,    0.  ,    1.  ,    1.  ]])"
      ]
     },
     "execution_count": 86,
     "metadata": {},
     "output_type": "execute_result"
    }
   ],
   "source": [
    "#need to combine to two datasets back into one now that it has been cleaned and preprocessed. \n",
    "lab_test_data_cleaned = np.hstack((lab_test_data_numeric, lab_test_data_str))\n",
    "lab_test_data_cleaned"
   ]
  },
  {
   "cell_type": "code",
   "execution_count": 87,
   "metadata": {},
   "outputs": [
    {
     "data": {
      "text/plain": [
       "(6773, 11)"
      ]
     },
     "execution_count": 87,
     "metadata": {},
     "output_type": "execute_result"
    }
   ],
   "source": [
    "#here we can check to make sure that we successfully added the two arrays columns on \n",
    "lab_test_data_cleaned.shape"
   ]
  },
  {
   "cell_type": "code",
   "execution_count": 88,
   "metadata": {},
   "outputs": [
    {
     "data": {
      "text/plain": [
       "0"
      ]
     },
     "execution_count": 88,
     "metadata": {},
     "output_type": "execute_result"
    }
   ],
   "source": [
    "np.isnan(lab_test_data_cleaned).sum()"
   ]
  },
  {
   "cell_type": "code",
   "execution_count": 89,
   "metadata": {},
   "outputs": [
    {
     "data": {
      "text/plain": [
       "array(['lab_id', 'API', 'Heated_Plate_Self', 'Heated_Plate_deltaT',\n",
       "       'Heated_Plate_System', 'Air_flow', 'Air_Perm', 'Absorbency_0W',\n",
       "       'Absorbency_2W', 'Submit_Type', 'Approval'], dtype='<U19')"
      ]
     },
     "execution_count": 89,
     "metadata": {},
     "output_type": "execute_result"
    }
   ],
   "source": [
    "#combining the headers then adding to the complete dataset \n",
    "full_header = np.concatenate((numeric_header, str_header))\n",
    "full_header"
   ]
  },
  {
   "cell_type": "code",
   "execution_count": 92,
   "metadata": {},
   "outputs": [
    {
     "data": {
      "text/plain": [
       "array([['lab_id', 'API', 'Heated_Plate_Self', ..., 'Absorbency_2W',\n",
       "        'Submit_Type', 'Approval'],\n",
       "       ['44.0', '204.0', '0.0', ..., '0.0', '1.0', '1.0'],\n",
       "       ['45.0', '120.0', '0.87', ..., '0.0', '1.0', '0.0'],\n",
       "       ...,\n",
       "       ['7394.0', '109.5', '0.0', ..., '0.0', '2.0', '1.0'],\n",
       "       ['7395.0', '296.0', '0.0', ..., '0.0', '1.0', '1.0'],\n",
       "       ['7396.0', '344.0', '0.0', ..., '0.0', '1.0', '1.0']], dtype='<U32')"
      ]
     },
     "execution_count": 92,
     "metadata": {},
     "output_type": "execute_result"
    }
   ],
   "source": [
    "#adding headers to full dataset \n",
    "full_data_cleaned = np.vstack((full_header, lab_test_data_cleaned))\n",
    "full_data_cleaned"
   ]
  },
  {
   "cell_type": "code",
   "execution_count": 93,
   "metadata": {},
   "outputs": [],
   "source": [
    "#now we need to save the cleaned dataset \n",
    "np.savetxt(\"Full-lab-data-cleaned.csv\",\n",
    "          full_data_cleaned, \n",
    "          fmt= \"%s\", \n",
    "          delimiter = ',')"
   ]
  }
 ],
 "metadata": {
  "kernelspec": {
   "display_name": "Python 3",
   "language": "python",
   "name": "python3"
  },
  "language_info": {
   "codemirror_mode": {
    "name": "ipython",
    "version": 3
   },
   "file_extension": ".py",
   "mimetype": "text/x-python",
   "name": "python",
   "nbconvert_exporter": "python",
   "pygments_lexer": "ipython3",
   "version": "3.8.5"
  }
 },
 "nbformat": 4,
 "nbformat_minor": 4
}
